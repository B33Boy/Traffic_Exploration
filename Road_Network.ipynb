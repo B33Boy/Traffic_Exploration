{
 "cells": [
  {
   "cell_type": "code",
   "execution_count": 1,
   "metadata": {},
   "outputs": [],
   "source": [
    "import warnings\n",
    "warnings.filterwarnings(\"ignore\")"
   ]
  },
  {
   "cell_type": "code",
   "execution_count": 2,
   "metadata": {},
   "outputs": [],
   "source": [
    "import matplotlib.pyplot as plt\n",
    "import mplleaflet\n",
    "import numpy as np\n",
    "import pandas as pd\n",
    "from pandas.io.json import json_normalize\n",
    "import requests\n",
    "import json"
   ]
  },
  {
   "cell_type": "code",
   "execution_count": 3,
   "metadata": {},
   "outputs": [],
   "source": [
    "r = requests.get('https://ww8.yorkmaps.ca/arcgis/rest/services/OpenData/Transportation/MapServer/0/query?where=1%3D1&outFields=SEGMENTID,FULL_NAME,FROM_STREET,TO_STREET,ROADNUMBER,ROADSECTION,PREVSEGMENT,NEXTSEGMENT,NUMLANES&outSR=4326&f=json')\n",
    "roads_raw = json.loads(r.text)"
   ]
  },
  {
   "cell_type": "code",
   "execution_count": 4,
   "metadata": {},
   "outputs": [],
   "source": [
    "df_road_routes = json_normalize(roads_raw, ['features'])"
   ]
  },
  {
   "cell_type": "code",
   "execution_count": 5,
   "metadata": {},
   "outputs": [
    {
     "name": "stdout",
     "output_type": "stream",
     "text": [
      "670\n"
     ]
    },
    {
     "data": {
      "text/html": [
       "<div>\n",
       "<style scoped>\n",
       "    .dataframe tbody tr th:only-of-type {\n",
       "        vertical-align: middle;\n",
       "    }\n",
       "\n",
       "    .dataframe tbody tr th {\n",
       "        vertical-align: top;\n",
       "    }\n",
       "\n",
       "    .dataframe thead th {\n",
       "        text-align: right;\n",
       "    }\n",
       "</style>\n",
       "<table border=\"1\" class=\"dataframe\">\n",
       "  <thead>\n",
       "    <tr style=\"text-align: right;\">\n",
       "      <th></th>\n",
       "      <th>attributes.SEGMENTID</th>\n",
       "      <th>attributes.FULL_NAME</th>\n",
       "      <th>attributes.FROM_STREET</th>\n",
       "      <th>attributes.TO_STREET</th>\n",
       "      <th>attributes.ROADNUMBER</th>\n",
       "      <th>attributes.ROADSECTION</th>\n",
       "      <th>attributes.PREVSEGMENT</th>\n",
       "      <th>attributes.NEXTSEGMENT</th>\n",
       "      <th>attributes.NUMLANES</th>\n",
       "      <th>geometry.paths</th>\n",
       "    </tr>\n",
       "  </thead>\n",
       "  <tbody>\n",
       "    <tr>\n",
       "      <th>0</th>\n",
       "      <td>06-01</td>\n",
       "      <td>Keele Street</td>\n",
       "      <td>Steeles Avenue West</td>\n",
       "      <td>Highway 407</td>\n",
       "      <td>6</td>\n",
       "      <td>1</td>\n",
       "      <td>Start</td>\n",
       "      <td>06-02</td>\n",
       "      <td>5</td>\n",
       "      <td>[[[-79.49448991398876, 43.781542505628174], [-...</td>\n",
       "    </tr>\n",
       "    <tr>\n",
       "      <th>1</th>\n",
       "      <td>49-08</td>\n",
       "      <td>Nashville Road</td>\n",
       "      <td>Kleins Crescent</td>\n",
       "      <td>Highway 27</td>\n",
       "      <td>49</td>\n",
       "      <td>8</td>\n",
       "      <td>49-06</td>\n",
       "      <td>49-14</td>\n",
       "      <td>2</td>\n",
       "      <td>[[[-79.66391901758661, 43.840878554259874], [-...</td>\n",
       "    </tr>\n",
       "    <tr>\n",
       "      <th>2</th>\n",
       "      <td>73-06</td>\n",
       "      <td>Rutherford Road</td>\n",
       "      <td>Highway 50</td>\n",
       "      <td>Huntington Road</td>\n",
       "      <td>73</td>\n",
       "      <td>6</td>\n",
       "      <td>Start</td>\n",
       "      <td>73-08</td>\n",
       "      <td>2</td>\n",
       "      <td>[[[-79.66915424508828, 43.80303916073006], [-7...</td>\n",
       "    </tr>\n",
       "    <tr>\n",
       "      <th>3</th>\n",
       "      <td>57-02</td>\n",
       "      <td>Pine Valley Drive</td>\n",
       "      <td>Highway 407</td>\n",
       "      <td>Highway 7</td>\n",
       "      <td>57</td>\n",
       "      <td>2</td>\n",
       "      <td>57-01</td>\n",
       "      <td>57-04</td>\n",
       "      <td>5</td>\n",
       "      <td>[[[-79.57050735235487, 43.774008971233286], [-...</td>\n",
       "    </tr>\n",
       "    <tr>\n",
       "      <th>4</th>\n",
       "      <td>53-02</td>\n",
       "      <td>Dufferin Street</td>\n",
       "      <td>Steeles Avenue West</td>\n",
       "      <td>Centre Street</td>\n",
       "      <td>53</td>\n",
       "      <td>2</td>\n",
       "      <td>Start</td>\n",
       "      <td>53-03</td>\n",
       "      <td>6</td>\n",
       "      <td>[[[-79.47008168825789, 43.78728329060266], [-7...</td>\n",
       "    </tr>\n",
       "  </tbody>\n",
       "</table>\n",
       "</div>"
      ],
      "text/plain": [
       "  attributes.SEGMENTID attributes.FULL_NAME attributes.FROM_STREET  \\\n",
       "0                06-01         Keele Street    Steeles Avenue West   \n",
       "1                49-08       Nashville Road        Kleins Crescent   \n",
       "2                73-06      Rutherford Road             Highway 50   \n",
       "3                57-02    Pine Valley Drive            Highway 407   \n",
       "4                53-02      Dufferin Street    Steeles Avenue West   \n",
       "\n",
       "  attributes.TO_STREET  attributes.ROADNUMBER  attributes.ROADSECTION  \\\n",
       "0          Highway 407                      6                       1   \n",
       "1           Highway 27                     49                       8   \n",
       "2      Huntington Road                     73                       6   \n",
       "3            Highway 7                     57                       2   \n",
       "4        Centre Street                     53                       2   \n",
       "\n",
       "  attributes.PREVSEGMENT attributes.NEXTSEGMENT attributes.NUMLANES  \\\n",
       "0                  Start                  06-02                   5   \n",
       "1                  49-06                  49-14                   2   \n",
       "2                  Start                  73-08                   2   \n",
       "3                  57-01                  57-04                   5   \n",
       "4                  Start                  53-03                   6   \n",
       "\n",
       "                                      geometry.paths  \n",
       "0  [[[-79.49448991398876, 43.781542505628174], [-...  \n",
       "1  [[[-79.66391901758661, 43.840878554259874], [-...  \n",
       "2  [[[-79.66915424508828, 43.80303916073006], [-7...  \n",
       "3  [[[-79.57050735235487, 43.774008971233286], [-...  \n",
       "4  [[[-79.47008168825789, 43.78728329060266], [-7...  "
      ]
     },
     "execution_count": 5,
     "metadata": {},
     "output_type": "execute_result"
    }
   ],
   "source": [
    "print(len(df_road_routes))\n",
    "df_road_routes.head()"
   ]
  },
  {
   "cell_type": "code",
   "execution_count": 6,
   "metadata": {},
   "outputs": [
    {
     "data": {
      "text/plain": [
       "[[-79.49448991398876, 43.781542505628174],\n",
       " [-79.49497053151752, 43.78324882898458],\n",
       " [-79.49502767996373, 43.783447663455654],\n",
       " [-79.49516479254432, 43.78392666621289],\n",
       " [-79.49554345217898, 43.78520360539186],\n",
       " [-79.49566454469696, 43.78561970904058],\n",
       " [-79.49569135307769, 43.78572524875889],\n",
       " [-79.49603427639184, 43.78691825288276],\n",
       " [-79.49607945876336, 43.78709892179639],\n",
       " [-79.49661126903938, 43.78902235973667],\n",
       " [-79.49703465728395, 43.790745386679696],\n",
       " [-79.49707446260243, 43.79088294665193],\n",
       " [-79.49721461853946, 43.7914897490164],\n",
       " [-79.49729218982189, 43.79179176394637],\n",
       " [-79.49731893126162, 43.791903559877376],\n",
       " [-79.49745209417826, 43.79243898126367]]"
      ]
     },
     "execution_count": 6,
     "metadata": {},
     "output_type": "execute_result"
    }
   ],
   "source": [
    "df_road_routes['geometry.paths'][0][0]"
   ]
  },
  {
   "cell_type": "code",
   "execution_count": null,
   "metadata": {},
   "outputs": [],
   "source": []
  },
  {
   "cell_type": "code",
   "execution_count": null,
   "metadata": {},
   "outputs": [],
   "source": []
  }
 ],
 "metadata": {
  "kernelspec": {
   "display_name": "Python 3",
   "language": "python",
   "name": "python3"
  },
  "language_info": {
   "codemirror_mode": {
    "name": "ipython",
    "version": 3
   },
   "file_extension": ".py",
   "mimetype": "text/x-python",
   "name": "python",
   "nbconvert_exporter": "python",
   "pygments_lexer": "ipython3",
   "version": "3.7.6"
  }
 },
 "nbformat": 4,
 "nbformat_minor": 2
}
