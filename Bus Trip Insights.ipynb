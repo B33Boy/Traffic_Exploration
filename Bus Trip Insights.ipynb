{
 "cells": [
  {
   "cell_type": "code",
   "execution_count": 1,
   "metadata": {},
   "outputs": [],
   "source": [
    "import warnings\n",
    "warnings.filterwarnings(\"ignore\")"
   ]
  },
  {
   "cell_type": "code",
   "execution_count": 2,
   "metadata": {},
   "outputs": [],
   "source": [
    "import matplotlib.pyplot as plt\n",
    "import mplleaflet\n",
    "import numpy as np\n",
    "import pandas as pd\n",
    "from pandas.io.json import json_normalize\n",
    "import requests\n",
    "import json"
   ]
  },
  {
   "cell_type": "markdown",
   "metadata": {},
   "source": [
    "### BUS STOPS"
   ]
  },
  {
   "cell_type": "code",
   "execution_count": 3,
   "metadata": {},
   "outputs": [],
   "source": [
    "bus_stops_resp = requests.get('https://opendata.arcgis.com/datasets/ca904f8425814759a3dfa5951afff479_2.geojson')"
   ]
  },
  {
   "cell_type": "code",
   "execution_count": 4,
   "metadata": {},
   "outputs": [],
   "source": [
    "bus_stops = json.loads(bus_stops_resp.text)"
   ]
  },
  {
   "cell_type": "code",
   "execution_count": 10,
   "metadata": {},
   "outputs": [
    {
     "data": {
      "text/html": [
       "<div>\n",
       "<style scoped>\n",
       "    .dataframe tbody tr th:only-of-type {\n",
       "        vertical-align: middle;\n",
       "    }\n",
       "\n",
       "    .dataframe tbody tr th {\n",
       "        vertical-align: top;\n",
       "    }\n",
       "\n",
       "    .dataframe thead th {\n",
       "        text-align: right;\n",
       "    }\n",
       "</style>\n",
       "<table border=\"1\" class=\"dataframe\">\n",
       "  <thead>\n",
       "    <tr style=\"text-align: right;\">\n",
       "      <th></th>\n",
       "      <th>properties.OBJECTID</th>\n",
       "      <th>properties.WHEELCHAIR_BOARDING</th>\n",
       "      <th>properties.STOP_ID</th>\n",
       "      <th>properties.CODE</th>\n",
       "      <th>properties.STOP_NAME</th>\n",
       "      <th>X</th>\n",
       "      <th>Y</th>\n",
       "    </tr>\n",
       "  </thead>\n",
       "  <tbody>\n",
       "    <tr>\n",
       "      <th>0</th>\n",
       "      <td>1001</td>\n",
       "      <td>Yes / Part</td>\n",
       "      <td>4692</td>\n",
       "      <td>4692</td>\n",
       "      <td>YONGE ST / WRIGHT ST</td>\n",
       "      <td>-79.438980</td>\n",
       "      <td>43.878121</td>\n",
       "    </tr>\n",
       "    <tr>\n",
       "      <th>1</th>\n",
       "      <td>1002</td>\n",
       "      <td>No</td>\n",
       "      <td>7268</td>\n",
       "      <td>7268</td>\n",
       "      <td>MURRELL BLVD / APPLEGATE DR</td>\n",
       "      <td>-79.448694</td>\n",
       "      <td>44.085712</td>\n",
       "    </tr>\n",
       "    <tr>\n",
       "      <th>2</th>\n",
       "      <td>1003</td>\n",
       "      <td>Yes / Part</td>\n",
       "      <td>6424</td>\n",
       "      <td>6424</td>\n",
       "      <td>AURORA GO STATION PLATFORM 2</td>\n",
       "      <td>-79.459500</td>\n",
       "      <td>44.000160</td>\n",
       "    </tr>\n",
       "    <tr>\n",
       "      <th>3</th>\n",
       "      <td>1004</td>\n",
       "      <td>Yes / Part</td>\n",
       "      <td>6425</td>\n",
       "      <td>6425</td>\n",
       "      <td>INDUSTRIAL PKWY / YONGE ST</td>\n",
       "      <td>-79.462279</td>\n",
       "      <td>43.981181</td>\n",
       "    </tr>\n",
       "    <tr>\n",
       "      <th>4</th>\n",
       "      <td>1005</td>\n",
       "      <td>Yes / Part</td>\n",
       "      <td>6426</td>\n",
       "      <td>6426</td>\n",
       "      <td>NEWMARKET GO PLATFORM 10</td>\n",
       "      <td>-79.486153</td>\n",
       "      <td>44.052780</td>\n",
       "    </tr>\n",
       "  </tbody>\n",
       "</table>\n",
       "</div>"
      ],
      "text/plain": [
       "   properties.OBJECTID properties.WHEELCHAIR_BOARDING properties.STOP_ID  \\\n",
       "0                 1001                     Yes / Part               4692   \n",
       "1                 1002                             No               7268   \n",
       "2                 1003                     Yes / Part               6424   \n",
       "3                 1004                     Yes / Part               6425   \n",
       "4                 1005                     Yes / Part               6426   \n",
       "\n",
       "  properties.CODE          properties.STOP_NAME          X          Y  \n",
       "0            4692          YONGE ST / WRIGHT ST -79.438980  43.878121  \n",
       "1            7268   MURRELL BLVD / APPLEGATE DR -79.448694  44.085712  \n",
       "2            6424  AURORA GO STATION PLATFORM 2 -79.459500  44.000160  \n",
       "3            6425    INDUSTRIAL PKWY / YONGE ST -79.462279  43.981181  \n",
       "4            6426      NEWMARKET GO PLATFORM 10 -79.486153  44.052780  "
      ]
     },
     "execution_count": 10,
     "metadata": {},
     "output_type": "execute_result"
    }
   ],
   "source": [
    "df_stops = json_normalize(bus_stops, ['features'])\n",
    "df_stops = df_stops.drop(['type','properties.DESCRIPTION', 'properties.SCHEDULE_START', 'properties.SCHEDULE_END', 'geometry.type'], axis=1)\n",
    "\n",
    "# Separate coordinates into X and Y columns\n",
    "coords = df_stops['geometry.coordinates'].apply(pd.Series)\n",
    "coords.columns = ['X', 'Y']\n",
    "df_stops = pd.concat([df_stops.iloc[:, :-1], coords[:]], axis=1)\n",
    "\n",
    "df_stops.head()"
   ]
  },
  {
   "cell_type": "code",
   "execution_count": null,
   "metadata": {},
   "outputs": [],
   "source": [
    "\n"
   ]
  },
  {
   "cell_type": "code",
   "execution_count": null,
   "metadata": {},
   "outputs": [],
   "source": []
  },
  {
   "cell_type": "code",
   "execution_count": null,
   "metadata": {},
   "outputs": [],
   "source": [
    "#df.plot.scatter(x='geometry.coordinates', y='geometry.coordinates');"
   ]
  },
  {
   "cell_type": "code",
   "execution_count": null,
   "metadata": {},
   "outputs": [],
   "source": [
    "fig, ax = plt.subplots()\n",
    "for i in range(0, 2000):\n",
    "    ax.plot(bus_stop_coord[i][0], bus_stop_coord[i][1], 'rs')\n",
    "\n",
    "# Display Inline\n",
    "mplleaflet.display(fig=fig)"
   ]
  },
  {
   "cell_type": "markdown",
   "metadata": {},
   "source": [
    "### BUS ROUTES"
   ]
  },
  {
   "cell_type": "code",
   "execution_count": null,
   "metadata": {},
   "outputs": [],
   "source": [
    "bus_routes_resp = requests.get('https://opendata.arcgis.com/datasets/ca904f8425814759a3dfa5951afff479_2.geojson')\n",
    "\n",
    "bus_routes = json.loads(bus_routes_resp.text)\n"
   ]
  },
  {
   "cell_type": "code",
   "execution_count": null,
   "metadata": {},
   "outputs": [],
   "source": [
    "# features = bus_routes['features']\n",
    "# df = pd.read_json(bus_routes.json(), lines=True)\n",
    "\n",
    "# bus_routes_resp.json()['features']"
   ]
  },
  {
   "cell_type": "code",
   "execution_count": null,
   "metadata": {},
   "outputs": [],
   "source": [
    "# result = pd.json_normalize(bus_routes)"
   ]
  },
  {
   "cell_type": "code",
   "execution_count": null,
   "metadata": {},
   "outputs": [],
   "source": [
    "# df = pd.DataFrame(features)\n",
    "# df"
   ]
  },
  {
   "cell_type": "code",
   "execution_count": null,
   "metadata": {},
   "outputs": [],
   "source": [
    "df.features[0]"
   ]
  },
  {
   "cell_type": "code",
   "execution_count": null,
   "metadata": {},
   "outputs": [],
   "source": [
    "type(features)"
   ]
  },
  {
   "cell_type": "code",
   "execution_count": null,
   "metadata": {},
   "outputs": [],
   "source": []
  }
 ],
 "metadata": {
  "kernelspec": {
   "display_name": "Python 3",
   "language": "python",
   "name": "python3"
  },
  "language_info": {
   "codemirror_mode": {
    "name": "ipython",
    "version": 3
   },
   "file_extension": ".py",
   "mimetype": "text/x-python",
   "name": "python",
   "nbconvert_exporter": "python",
   "pygments_lexer": "ipython3",
   "version": "3.7.6"
  }
 },
 "nbformat": 4,
 "nbformat_minor": 2
}
